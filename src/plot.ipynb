{
 "cells": [
  {
   "cell_type": "code",
   "execution_count": 1,
   "id": "nuclear-brand",
   "metadata": {},
   "outputs": [],
   "source": [
    "%matplotlib widget\n",
    "\n",
    "import os\n",
    "import numpy as np\n",
    "import matplotlib.pyplot as plt\n",
    "from utils import setup_directories"
   ]
  },
  {
   "cell_type": "code",
   "execution_count": 2,
   "id": "affected-surfing",
   "metadata": {},
   "outputs": [
    {
     "name": "stdout",
     "output_type": "stream",
     "text": [
      "/home/jupyter/RIS/out/training/DenseNet121_1_2021-04-15_12-20-13\n"
     ]
    }
   ],
   "source": [
    "train_name = 'DenseNet121_1_2021-04-15_12-20-13' # Enter folder name\n",
    "dirs = setup_directories()\n",
    "train_output = os.path.join(dirs['out'], 'training', train_name)\n",
    "print(train_output)"
   ]
  },
  {
   "cell_type": "markdown",
   "id": "induced-seeker",
   "metadata": {},
   "source": [
    "## Plot loss"
   ]
  },
  {
   "cell_type": "code",
   "execution_count": 3,
   "id": "genetic-reach",
   "metadata": {},
   "outputs": [],
   "source": [
    "train_loss = np.hsplit(np.loadtxt(os.path.join(train_output, 'log_loss.txt')), 2)\n",
    "valid_loss = np.hsplit(np.loadtxt(os.path.join(train_output, 'log_Valid_Loss.txt')), 2)"
   ]
  },
  {
   "cell_type": "code",
   "execution_count": 5,
   "id": "spatial-mayor",
   "metadata": {},
   "outputs": [
    {
     "data": {
      "application/vnd.jupyter.widget-view+json": {
       "model_id": "5f5875846e4e448098b3521afb174f65",
       "version_major": 2,
       "version_minor": 0
      },
      "text/plain": [
       "Canvas(toolbar=Toolbar(toolitems=[('Home', 'Reset original view', 'home', 'home'), ('Back', 'Back to previous …"
      ]
     },
     "metadata": {},
     "output_type": "display_data"
    }
   ],
   "source": [
    "plt.close('loss')\n",
    "plt.figure('loss')\n",
    "plt.plot(train_loss[0], train_loss[1], valid_loss[0], valid_loss[1])\n",
    "plt.show()"
   ]
  },
  {
   "cell_type": "code",
   "execution_count": 6,
   "id": "tamil-prime",
   "metadata": {},
   "outputs": [
    {
     "data": {
      "application/vnd.jupyter.widget-view+json": {
       "model_id": "c76d2dcc1aa949f4bb54bbde1ffd75b8",
       "version_major": 2,
       "version_minor": 0
      },
      "text/plain": [
       "Canvas(toolbar=Toolbar(toolitems=[('Home', 'Reset original view', 'home', 'home'), ('Back', 'Back to previous …"
      ]
     },
     "metadata": {},
     "output_type": "display_data"
    }
   ],
   "source": [
    "fig, ax = plt.subplots()\n",
    "ax.plot(train_loss[0], train_loss[1], valid_loss[0], valid_loss[1])\n",
    "ax.set(xlabel='interation', ylabel='loss',\n",
    "       title='Loss')\n",
    "ax.grid()\n",
    "plt.show()"
   ]
  },
  {
   "cell_type": "code",
   "execution_count": null,
   "id": "another-surface",
   "metadata": {},
   "outputs": [],
   "source": []
  }
 ],
 "metadata": {
  "environment": {
   "name": "pytorch-gpu.1-8.m65",
   "type": "gcloud",
   "uri": "gcr.io/deeplearning-platform-release/pytorch-gpu.1-8:m65"
  },
  "kernelspec": {
   "display_name": "Python 3",
   "language": "python",
   "name": "python3"
  },
  "language_info": {
   "codemirror_mode": {
    "name": "ipython",
    "version": 3
   },
   "file_extension": ".py",
   "mimetype": "text/x-python",
   "name": "python",
   "nbconvert_exporter": "python",
   "pygments_lexer": "ipython3",
   "version": "3.7.10"
  }
 },
 "nbformat": 4,
 "nbformat_minor": 5
}
