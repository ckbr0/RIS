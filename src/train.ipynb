{
 "cells": [
  {
   "cell_type": "markdown",
   "id": "lovely-marsh",
   "metadata": {},
   "source": [
    "## Setup imports"
   ]
  },
  {
   "cell_type": "code",
   "execution_count": null,
   "id": "traditional-humanitarian",
   "metadata": {
    "scrolled": false
   },
   "outputs": [],
   "source": [
    "import sys\n",
    "import os\n",
    "import logging\n",
    "import numpy as np\n",
    "import torch\n",
    "import monai.networks.nets as nets\n",
    "from monai.transforms import (\n",
    "    Compose,\n",
    "    LoadImaged,\n",
    "    AddChanneld,\n",
    "    CropForegroundd,\n",
    "    ToTensord,\n",
    "    RandAxisFlipd,\n",
    "    RandAffined,\n",
    "    SpatialPadd,\n",
    "    Activationsd,\n",
    "    Resized,\n",
    ")\n",
    "from transforms import (\n",
    "    CTWindowd,\n",
    "    #RandCTWindowd,\n",
    "    CTSegmentation,\n",
    "    RelativeCropZd,\n",
    ")\n",
    "from monai.data import DataLoader, Dataset, PersistentDataset, CacheDataset\n",
    "from monai.transforms.croppad.batch import PadListDataCollate\n",
    "from monai.utils import NumpyPadMode, set_determinism\n",
    "from monai.utils.enums import Method\n",
    "from monai.config import print_config\n",
    "from sklearn.model_selection import train_test_split\n",
    "from trainer import Trainer\n",
    "from validator import Validator\n",
    "from utils import (\n",
    "    setup_directories,\n",
    "    create_device,\n",
    "    get_data_from_info,\n",
    "    large_image_splitter,\n",
    "    calculate_class_imbalance,\n",
    ")\n",
    "logging.basicConfig(stream=sys.stdout, level=logging.INFO)\n",
    "print_config()"
   ]
  },
  {
   "cell_type": "markdown",
   "id": "about-trader",
   "metadata": {},
   "source": [
    "## Setup directories"
   ]
  },
  {
   "cell_type": "code",
   "execution_count": null,
   "id": "designed-subject",
   "metadata": {},
   "outputs": [],
   "source": [
    "dirs = setup_directories()"
   ]
  },
  {
   "cell_type": "markdown",
   "id": "outside-patent",
   "metadata": {},
   "source": [
    "## Setup torch device"
   ]
  },
  {
   "cell_type": "code",
   "execution_count": null,
   "id": "checked-headquarters",
   "metadata": {},
   "outputs": [],
   "source": [
    "# pass \"cuda\" to use the GPU\n",
    "device, using_gpu = create_device(\"cuda\")"
   ]
  },
  {
   "cell_type": "markdown",
   "id": "opposite-grass",
   "metadata": {},
   "source": [
    "## Load and randomize images"
   ]
  },
  {
   "cell_type": "code",
   "execution_count": null,
   "id": "latest-trading",
   "metadata": {},
   "outputs": [],
   "source": [
    "# HACKATON image and segmentation data\n",
    "hackathon_dir = os.path.join(dirs[\"data\"], 'HACKATHON')\n",
    "with open(os.path.join(hackathon_dir, \"train.txt\"), 'r') as fp:\n",
    "    train_info_hackathon = [entry.strip().split(',') for entry in fp.readlines()]\n",
    "image_dir = os.path.join(hackathon_dir, 'images', 'train')\n",
    "seg_dir = os.path.join(hackathon_dir, 'segmentations', 'train')\n",
    "_train_data_hackathon = get_data_from_info(image_dir, seg_dir, train_info_hackathon, dual_output=False)\n",
    "# PSUF data\n",
    "\"\"\"psuf_dir = os.path.join(dirs[\"data\"], 'psuf')\n",
    "with open(os.path.join(psuf_dir, \"train.txt\"), 'r') as fp:\n",
    "    train_info = [entry.strip().split(',') for entry in fp.readlines()]\n",
    "image_dir = os.path.join(psuf_dir, 'images')\n",
    "train_data_psuf = get_data_from_info(image_dir, None, train_info)\"\"\"\n",
    "# Split data into train, validate and test\n",
    "train_split, test_data_hackathon = train_test_split(_train_data_hackathon, test_size=0.2, shuffle=True, random_state=42)\n",
    "train_data_hackathon, valid_data_hackathon = train_test_split(train_split, test_size=0.2, shuffle=True, random_state=43)\n",
    "large_image_splitter(train_data_hackathon, dirs[\"cache\"])"
   ]
  },
  {
   "cell_type": "markdown",
   "id": "disabled-alloy",
   "metadata": {},
   "source": [
    "## Setup transforms"
   ]
  },
  {
   "cell_type": "code",
   "execution_count": null,
   "id": "pretty-abuse",
   "metadata": {},
   "outputs": [],
   "source": [
    "# Crop foreground\n",
    "crop_foreground = CropForegroundd(\n",
    "    keys=[\"image\"],\n",
    "    source_key=\"image\",\n",
    "    margin=(5, 5, 0),\n",
    "    select_fn = lambda x: x != 0\n",
    ")\n",
    "# Crop Z\n",
    "crop_z = RelativeCropZd(keys=[\"image\"], relative_z_roi=(0.05, 0.15))\n",
    "# Window width and level (window center)\n",
    "WW, WL = 1500, -600\n",
    "ct_window = CTWindowd(keys=[\"image\"], width=WW, level=WL)\n",
    "# Random variatnon in CT window\n",
    "\"\"\"rand_WW, rand_WL = 50, 25\n",
    "rand_ct_window = RandCTWindowd(\n",
    "    keys=[\"image\"],\n",
    "    prob=1.0,\n",
    "    width=(WW-rand_WW, WW+rand_WW),\n",
    "    level=(rand_WL-25, rand_WL+25)\n",
    ")\"\"\"\n",
    "# Random axis flip\n",
    "rand_axis_flip = RandAxisFlipd(keys=[\"image\"], prob=0.1)\n",
    "# Rand affine transform\n",
    "rand_affine = RandAffined(\n",
    "    keys=[\"image\"],\n",
    "    prob=0.25,\n",
    "    rotate_range=(0, 0, np.pi/16),\n",
    "    shear_range=(0.05, 0.05, 0.0),\n",
    "    translate_range=(10, 10, 0),\n",
    "    scale_range=(0.05, 0.05, 0.0),\n",
    "    padding_mode=\"zeros\"\n",
    ")\n",
    "# Pad image to have hight at least 30\n",
    "spatial_pad = SpatialPadd(keys=[\"image\"], spatial_size=(-1, -1, 30))\n",
    "# Resize image x and y\n",
    "resize_fator = 0.5\n",
    "resize = Resized(keys=[\"image\"], spatial_size=(int(512*resize_fator), int(512*resize_fator), -1), mode=\"trilinear\")"
   ]
  },
  {
   "cell_type": "markdown",
   "id": "three-exclusion",
   "metadata": {},
   "source": [
    "#### Create transforms"
   ]
  },
  {
   "cell_type": "code",
   "execution_count": null,
   "id": "twenty-classroom",
   "metadata": {},
   "outputs": [],
   "source": [
    "common_transform = Compose([\n",
    "    LoadImaged(keys=[\"image\"]),\n",
    "    ct_window,\n",
    "    CTSegmentation(keys=[\"image\"]),\n",
    "    AddChanneld(keys=[\"image\"]),\n",
    "    resize,\n",
    "    crop_foreground,\n",
    "    crop_z,\n",
    "    spatial_pad,\n",
    "])\n",
    "hackathon_train_transform = Compose([\n",
    "    common_transform,\n",
    "    rand_axis_flip,\n",
    "    rand_affine,\n",
    "    ToTensord(keys=[\"image\"]),\n",
    "]).flatten()\n",
    "hackathon_valid_transfrom = Compose([\n",
    "    common_transform,\n",
    "    ToTensord(keys=[\"image\"]),\n",
    "]).flatten()\n",
    "psuf_transforms = Compose([\n",
    "    LoadImaged(keys=[\"image\"]),\n",
    "    AddChanneld(keys=[\"image\"]),\n",
    "    ToTensord(keys=[\"image\"]),\n",
    "])"
   ]
  },
  {
   "cell_type": "markdown",
   "id": "concerned-enough",
   "metadata": {},
   "source": [
    "## Setup data"
   ]
  },
  {
   "cell_type": "code",
   "execution_count": null,
   "id": "enormous-attempt",
   "metadata": {},
   "outputs": [],
   "source": [
    "#set_determinism(seed=100)\n",
    "train_dataset = PersistentDataset(data=train_data_hackathon[:], transform=hackathon_train_transform, cache_dir=dirs[\"persistent\"])\n",
    "valid_dataset = PersistentDataset(data=valid_data_hackathon[:], transform=hackathon_valid_transfrom, cache_dir=dirs[\"persistent\"])\n",
    "train_loader = DataLoader(\n",
    "    train_dataset,\n",
    "    batch_size=4,\n",
    "    shuffle=True,\n",
    "    pin_memory=using_gpu,\n",
    "    num_workers=1,\n",
    "    collate_fn=PadListDataCollate(Method.SYMMETRIC, NumpyPadMode.CONSTANT)\n",
    ")\n",
    "valid_loader = DataLoader(\n",
    "    valid_dataset,\n",
    "    batch_size=4,\n",
    "    shuffle=True,\n",
    "    pin_memory=using_gpu,\n",
    "    num_workers=1,\n",
    "    collate_fn=PadListDataCollate(Method.SYMMETRIC, NumpyPadMode.CONSTANT)\n",
    ")"
   ]
  },
  {
   "cell_type": "markdown",
   "id": "olympic-banner",
   "metadata": {},
   "source": [
    "## Setup network, loss function, optimizer and scheduler"
   ]
  },
  {
   "cell_type": "code",
   "execution_count": null,
   "id": "operating-endorsement",
   "metadata": {},
   "outputs": [],
   "source": [
    "network = nets.DenseNet(spatial_dims=3, in_channels=1, out_channels=1).to(device)\n",
    "# pos_weight for class imbalance\n",
    "pos_weight = calculate_class_imbalance(train_info_hackathon).to(device)\n",
    "loss_function = torch.nn.BCEWithLogitsLoss(pos_weight)\n",
    "optimizer = torch.optim.Adam(network.parameters(), lr=0.2e-3, weight_decay=0.0001)\n",
    "scheduler = torch.optim.lr_scheduler.ExponentialLR(optimizer, gamma=0.95, last_epoch=-1)"
   ]
  },
  {
   "cell_type": "markdown",
   "id": "rational-winner",
   "metadata": {},
   "source": [
    "## Setup validator and trainer"
   ]
  },
  {
   "cell_type": "code",
   "execution_count": null,
   "id": "municipal-accountability",
   "metadata": {
    "scrolled": false
   },
   "outputs": [],
   "source": [
    "valid_post_transforms = Compose([\n",
    "    Activationsd(keys=\"pred\", sigmoid=True),\n",
    "])\n",
    "validator = Validator(\n",
    "    device=device,\n",
    "    val_data_loader=valid_loader,\n",
    "    network=network,\n",
    "    post_transform=valid_post_transforms,\n",
    "    amp=using_gpu,\n",
    "    non_blocking=using_gpu\n",
    ")\n",
    "\n",
    "trainer = Trainer(\n",
    "    device=device,\n",
    "    out_dir=dirs[\"out\"],\n",
    "    out_name=\"DenseNet\",\n",
    "    max_epochs=30,\n",
    "    train_data_loader=train_loader,\n",
    "    network=network,\n",
    "    optimizer=optimizer,\n",
    "    loss_function=loss_function,\n",
    "    lr_scheduler=None,\n",
    "    validator=validator,\n",
    "    amp=using_gpu,\n",
    "    non_blocking=using_gpu\n",
    ")"
   ]
  },
  {
   "cell_type": "markdown",
   "id": "lightweight-citizen",
   "metadata": {},
   "source": [
    "## Run trainer"
   ]
  },
  {
   "cell_type": "code",
   "execution_count": null,
   "id": "vocal-virginia",
   "metadata": {
    "scrolled": false
   },
   "outputs": [],
   "source": [
    "trainer.run()"
   ]
  }
 ],
 "metadata": {
  "kernelspec": {
   "display_name": "Python 3",
   "language": "python",
   "name": "python3"
  },
  "language_info": {
   "codemirror_mode": {
    "name": "ipython",
    "version": 3
   },
   "file_extension": ".py",
   "mimetype": "text/x-python",
   "name": "python",
   "nbconvert_exporter": "python",
   "pygments_lexer": "ipython3",
   "version": "3.9.4"
  }
 },
 "nbformat": 4,
 "nbformat_minor": 5
}
