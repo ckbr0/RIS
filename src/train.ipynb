{
 "cells": [
  {
   "cell_type": "markdown",
   "id": "desirable-madness",
   "metadata": {},
   "source": [
    "## Setup imports"
   ]
  },
  {
   "cell_type": "code",
   "execution_count": 14,
   "id": "august-explosion",
   "metadata": {},
   "outputs": [
    {
     "name": "stdout",
     "output_type": "stream",
     "text": [
      "MONAI version: 0.5.dev2115\n",
      "Numpy version: 1.20.2\n",
      "Pytorch version: 1.8.0\n",
      "MONAI flags: HAS_EXT = False, USE_COMPILED = False\n",
      "MONAI rev id: c9990b040832792aa897b27a07180d4629cb8de3\n",
      "\n",
      "Optional dependencies:\n",
      "Pytorch Ignite version: 0.4.4\n",
      "Nibabel version: 3.2.1\n",
      "scikit-image version: NOT INSTALLED or UNKNOWN VERSION.\n",
      "Pillow version: 8.1.2\n",
      "Tensorboard version: 2.4.1\n",
      "gdown version: NOT INSTALLED or UNKNOWN VERSION.\n",
      "TorchVision version: 0.9.0+cu111\n",
      "ITK version: NOT INSTALLED or UNKNOWN VERSION.\n",
      "tqdm version: 4.59.0\n",
      "lmdb version: NOT INSTALLED or UNKNOWN VERSION.\n",
      "psutil version: 5.8.0\n",
      "\n",
      "For details about installing the optional dependencies, please visit:\n",
      "    https://docs.monai.io/en/latest/installation.html#installing-the-recommended-dependencies\n",
      "\n"
     ]
    }
   ],
   "source": [
    "import sys\n",
    "import os\n",
    "import logging\n",
    "import numpy as np\n",
    "import torch\n",
    "import monai.networks.nets as nets\n",
    "from monai.transforms import (\n",
    "    Compose,\n",
    "    LoadImaged,\n",
    "    AddChanneld,\n",
    "    CropForegroundd,\n",
    "    ToTensord,\n",
    "    RandFlipd,\n",
    "    RandAffined,\n",
    "    SpatialPadd,\n",
    "    Activationsd,\n",
    "    Resized,\n",
    ")\n",
    "from transforms import (\n",
    "    CTWindowd,\n",
    "    CTSegmentation,\n",
    "    RelativeCropZd,\n",
    "    RandGaussianNoised,\n",
    ")\n",
    "from monai.data import DataLoader, Dataset, PersistentDataset, CacheDataset\n",
    "from torchsampler import ImbalancedDatasetSampler\n",
    "from monai.transforms.croppad.batch import PadListDataCollate\n",
    "from monai.utils import NumpyPadMode, set_determinism\n",
    "from monai.utils.enums import Method\n",
    "from monai.config import print_config\n",
    "from sklearn.model_selection import train_test_split\n",
    "from trainer import Trainer\n",
    "from validator import Validator\n",
    "from tester import Tester\n",
    "from utils import (\n",
    "    multi_slice_viewer,\n",
    "    setup_directories,\n",
    "    get_data_from_info,\n",
    "    large_image_splitter,\n",
    "    calculate_class_imbalance,\n",
    "    create_device,\n",
    "    balance_training_data,\n",
    "    pickle_hashing,\n",
    ")\n",
    "from test_data_loader import TestDataset\n",
    "logging.basicConfig(stream=sys.stdout, level=logging.INFO)\n",
    "print_config()"
   ]
  },
  {
   "cell_type": "markdown",
   "id": "pediatric-fighter",
   "metadata": {},
   "source": [
    "## Setup directories"
   ]
  },
  {
   "cell_type": "code",
   "execution_count": 15,
   "id": "european-magnet",
   "metadata": {},
   "outputs": [],
   "source": [
    "dirs = setup_directories()"
   ]
  },
  {
   "cell_type": "markdown",
   "id": "competitive-harvard",
   "metadata": {},
   "source": [
    "## Setup torch device"
   ]
  },
  {
   "cell_type": "code",
   "execution_count": 16,
   "id": "greater-stomach",
   "metadata": {},
   "outputs": [],
   "source": [
    "# pass \"cuda\" to use the GPU\n",
    "device, using_gpu = create_device(\"cuda\")"
   ]
  },
  {
   "cell_type": "markdown",
   "id": "particular-easter",
   "metadata": {},
   "source": [
    "## Load and randomize images"
   ]
  },
  {
   "cell_type": "code",
   "execution_count": 17,
   "id": "boring-romance",
   "metadata": {},
   "outputs": [
    {
     "name": "stdout",
     "output_type": "stream",
     "text": [
      "Splitting large images...\n",
      "original data len: 355\n",
      "split image: /home/jupyter/RIS/data/HACKATHON/images/train/0001.nii.gz\n",
      "split image: /home/jupyter/RIS/data/HACKATHON/images/train/0022.nii.gz\n",
      "split image: /home/jupyter/RIS/data/HACKATHON/images/train/0011.nii.gz\n",
      "split image: /home/jupyter/RIS/data/HACKATHON/images/train/0016.nii.gz\n",
      "split image: /home/jupyter/RIS/data/HACKATHON/images/train/0008.nii.gz\n",
      "split image: /home/jupyter/RIS/data/HACKATHON/images/train/0015.nii.gz\n",
      "split image: /home/jupyter/RIS/data/HACKATHON/images/train/0021.nii.gz\n",
      "split image: /home/jupyter/RIS/data/HACKATHON/images/train/0009.nii.gz\n",
      "split image: /home/jupyter/RIS/data/HACKATHON/images/train/0020.nii.gz\n",
      "split image: /home/jupyter/RIS/data/HACKATHON/images/train/0012.nii.gz\n",
      "split image: /home/jupyter/RIS/data/HACKATHON/images/train/0014.nii.gz\n",
      "split image: /home/jupyter/RIS/data/HACKATHON/images/train/0002.nii.gz\n",
      "split image: /home/jupyter/RIS/data/HACKATHON/images/train/0019.nii.gz\n",
      "split image: /home/jupyter/RIS/data/HACKATHON/images/train/0000.nii.gz\n",
      "split image: /home/jupyter/RIS/data/HACKATHON/images/train/0017.nii.gz\n",
      "split image: /home/jupyter/RIS/data/HACKATHON/images/train/0006.nii.gz\n",
      "split image: /home/jupyter/RIS/data/HACKATHON/images/train/0018.nii.gz\n",
      "new data len: 400\n"
     ]
    }
   ],
   "source": [
    "# HACKATON image and segmentation data\n",
    "hackathon_dir = os.path.join(dirs[\"data\"], 'HACKATHON')\n",
    "map_fn = lambda x: (x[0], int(x[1]))\n",
    "with open(os.path.join(hackathon_dir, \"train.txt\"), 'r') as fp:\n",
    "    train_info_hackathon = [map_fn(entry.strip().split(',')) for entry in fp.readlines()]\n",
    "image_dir = os.path.join(hackathon_dir, 'images', 'train')\n",
    "seg_dir = os.path.join(hackathon_dir, 'segmentations', 'train')\n",
    "_train_data_hackathon = get_data_from_info(\n",
    "    image_dir, seg_dir, train_info_hackathon, dual_output=False\n",
    ")\n",
    "_train_data_hackathon = large_image_splitter(_train_data_hackathon, dirs[\"cache\"])\n",
    "    \n",
    "# PSUF data\n",
    "\"\"\"psuf_dir = os.path.join(dirs[\"data\"], 'psuf')\n",
    "with open(os.path.join(psuf_dir, \"train.txt\"), 'r') as fp:\n",
    "    train_info = [entry.strip().split(',') for entry in fp.readlines()]\n",
    "image_dir = os.path.join(psuf_dir, 'images')\n",
    "train_data_psuf = get_data_from_info(image_dir, None, train_info)\"\"\"\n",
    "# Split data into train, validate and test\n",
    "train_split, test_data_hackathon = train_test_split(_train_data_hackathon, test_size=0.2, shuffle=True, random_state=42)\n",
    "train_data_hackathon, valid_data_hackathon = train_test_split(train_split, test_size=0.2, shuffle=True, random_state=43)\n",
    "\n",
    "#balance_training_data(train_data_hackathon, seed=72)\n",
    "#balance_training_data(valid_data_hackathon, seed=73)\n",
    "#balance_training_data(test_data_hackathon, seed=74)"
   ]
  },
  {
   "cell_type": "markdown",
   "id": "capable-panic",
   "metadata": {},
   "source": [
    "## Setup transforms"
   ]
  },
  {
   "cell_type": "code",
   "execution_count": 18,
   "id": "large-salvation",
   "metadata": {},
   "outputs": [],
   "source": [
    "# Crop foreground\n",
    "crop_foreground = CropForegroundd(\n",
    "    keys=[\"image\"],\n",
    "    source_key=\"image\",\n",
    "    margin=(5, 5, 0),\n",
    "    select_fn = lambda x: x != 0\n",
    ")\n",
    "# Crop Z\n",
    "crop_z = RelativeCropZd(keys=[\"image\"], relative_z_roi=(0.05, 0.15))\n",
    "# Window width and level (window center)\n",
    "WW, WL = 1500, -600\n",
    "ct_window = CTWindowd(keys=[\"image\"], width=WW, level=WL)\n",
    "# Random flip axis\n",
    "rand_x_flip = RandFlipd(keys=[\"image\"], spatial_axis=0, prob=0.50)\n",
    "rand_y_flip = RandFlipd(keys=[\"image\"], spatial_axis=1, prob=0.50)\n",
    "rand_z_flip = RandFlipd(keys=[\"image\"], spatial_axis=2, prob=0.50)\n",
    "# Rand affine transform\n",
    "rand_affine = RandAffined(\n",
    "    keys=[\"image\"],\n",
    "    prob=0.50,\n",
    "    rotate_range=(0, 0, np.pi/12),\n",
    "    shear_range=(0.07, 0.07, 0.0),\n",
    "    translate_range=(0, 0, 0),\n",
    "    scale_range=(0.07, 0.07, 0.0),\n",
    "    padding_mode=\"zeros\"\n",
    ")\n",
    "# Pad image to have hight at least 30\n",
    "spatial_pad = SpatialPadd(keys=[\"image\"], spatial_size=(-1, -1, 30))\n",
    "# Resize image x and y\n",
    "resize_fator = 0.5\n",
    "resize = Resized(keys=[\"image\"], spatial_size=(int(512*resize_fator), int(512*resize_fator), -1), mode=\"trilinear\")\n",
    "# Apply Gaussian noise\n",
    "rand_gaussian_noise = RandGaussianNoised(keys=[\"image\"], prob=0.25, mean=0.0, std=0.1)"
   ]
  },
  {
   "cell_type": "markdown",
   "id": "threaded-parker",
   "metadata": {},
   "source": [
    "#### Create transforms"
   ]
  },
  {
   "cell_type": "code",
   "execution_count": 19,
   "id": "short-concert",
   "metadata": {},
   "outputs": [],
   "source": [
    "common_transform = Compose([\n",
    "    LoadImaged(keys=[\"image\"]),\n",
    "    ct_window,\n",
    "    CTSegmentation(keys=[\"image\"]),\n",
    "    AddChanneld(keys=[\"image\"]),\n",
    "    resize,\n",
    "    crop_foreground,\n",
    "    crop_z,\n",
    "    spatial_pad,\n",
    "])\n",
    "hackathon_train_transform = Compose([\n",
    "    common_transform,\n",
    "    rand_x_flip,\n",
    "    rand_y_flip,\n",
    "    rand_z_flip,\n",
    "    rand_affine,\n",
    "    rand_gaussian_noise,\n",
    "    ToTensord(keys=[\"image\"]),\n",
    "]).flatten()\n",
    "hackathon_valid_transfrom = Compose([\n",
    "    common_transform,\n",
    "    #rand_x_flip,\n",
    "    #rand_y_flip,\n",
    "    #rand_z_flip,\n",
    "    #rand_affine,\n",
    "    ToTensord(keys=[\"image\"]),\n",
    "]).flatten()\n",
    "hackathon_test_transfrom = Compose([\n",
    "    common_transform,\n",
    "    ToTensord(keys=[\"image\"]),\n",
    "]).flatten()\n",
    "psuf_transforms = Compose([\n",
    "    LoadImaged(keys=[\"image\"]),\n",
    "    AddChanneld(keys=[\"image\"]),\n",
    "    ToTensord(keys=[\"image\"]),\n",
    "])"
   ]
  },
  {
   "cell_type": "markdown",
   "id": "pediatric-blame",
   "metadata": {},
   "source": [
    "## Setup data"
   ]
  },
  {
   "cell_type": "code",
   "execution_count": 20,
   "id": "orange-kuwait",
   "metadata": {},
   "outputs": [],
   "source": [
    "#set_determinism(seed=100)\n",
    "train_dataset = PersistentDataset(data=train_data_hackathon[:], transform=hackathon_train_transform, cache_dir=dirs[\"persistent\"])\n",
    "valid_dataset = PersistentDataset(data=valid_data_hackathon[:], transform=hackathon_valid_transfrom, cache_dir=dirs[\"persistent\"])\n",
    "test_dataset = PersistentDataset(data=test_data_hackathon[:], transform=hackathon_test_transfrom, cache_dir=dirs[\"persistent\"])\n",
    "train_loader = DataLoader(\n",
    "    train_dataset,\n",
    "    batch_size=4,\n",
    "    #shuffle=True,\n",
    "    pin_memory=using_gpu,\n",
    "    num_workers=2,\n",
    "    sampler=ImbalancedDatasetSampler(train_data_hackathon, callback_get_label=lambda x, i: x[i]['_label']),\n",
    "    collate_fn=PadListDataCollate(Method.SYMMETRIC, NumpyPadMode.CONSTANT)\n",
    ")\n",
    "valid_loader = DataLoader(\n",
    "    valid_dataset,\n",
    "    batch_size=4,\n",
    "    #shuffle=True,\n",
    "    pin_memory=using_gpu,\n",
    "    num_workers=2,\n",
    "    sampler=ImbalancedDatasetSampler(valid_data_hackathon, callback_get_label=lambda x, i: x[i]['_label']),\n",
    "    collate_fn=PadListDataCollate(Method.SYMMETRIC, NumpyPadMode.CONSTANT)\n",
    ")\n",
    "test_loader = DataLoader(\n",
    "    test_dataset,\n",
    "    batch_size=4,\n",
    "    #shuffle=True,\n",
    "    pin_memory=using_gpu,\n",
    "    num_workers=2,\n",
    "    collate_fn=PadListDataCollate(Method.SYMMETRIC, NumpyPadMode.CONSTANT)\n",
    ")"
   ]
  },
  {
   "cell_type": "markdown",
   "id": "egyptian-coverage",
   "metadata": {},
   "source": [
    "## Setup network, loss function, optimizer and scheduler"
   ]
  },
  {
   "cell_type": "code",
   "execution_count": 25,
   "id": "documentary-wilson",
   "metadata": {},
   "outputs": [],
   "source": [
    "network = nets.DenseNet169(spatial_dims=3, in_channels=1, out_channels=1).to(device)\n",
    "# pos_weight for class imbalance\n",
    "pos_weight = 1#calculate_class_imbalance(train_data_hackathon)\n",
    "pos_weight = torch.Tensor([pos_weight]).to(device)\n",
    "loss_function = torch.nn.BCEWithLogitsLoss(pos_weight)\n",
    "optimizer = torch.optim.Adam(network.parameters(), lr=1e-5, weight_decay=0)\n",
    "scheduler = torch.optim.lr_scheduler.ExponentialLR(optimizer, gamma=0.95, last_epoch=-1)"
   ]
  },
  {
   "cell_type": "markdown",
   "id": "interested-difference",
   "metadata": {},
   "source": [
    "## Setup validator and trainer"
   ]
  },
  {
   "cell_type": "code",
   "execution_count": 26,
   "id": "polished-tolerance",
   "metadata": {},
   "outputs": [],
   "source": [
    "# Setup validator and trainer\n",
    "valid_post_transforms = Compose([\n",
    "    Activationsd(keys=\"pred\", sigmoid=True),\n",
    "    #Activationsd(keys=\"pred\", softmax=True),\n",
    "])\n",
    "validator = Validator(\n",
    "    device=device,\n",
    "    val_data_loader=valid_loader,\n",
    "    network=network,\n",
    "    post_transform=valid_post_transforms,\n",
    "    amp=using_gpu,\n",
    "    non_blocking=using_gpu\n",
    ")\n",
    "\n",
    "trainer = Trainer(\n",
    "    device=device,\n",
    "    out_dir=dirs[\"out\"],\n",
    "    out_name=\"DenseNet169\",\n",
    "    max_epochs=120,\n",
    "    validation_epoch = 1,\n",
    "    validation_interval = 1,\n",
    "    train_data_loader=train_loader,\n",
    "    network=network,\n",
    "    optimizer=optimizer,\n",
    "    loss_function=loss_function,\n",
    "    lr_scheduler=None,\n",
    "    validator=validator,\n",
    "    amp=using_gpu,\n",
    "    non_blocking=using_gpu\n",
    ")"
   ]
  },
  {
   "cell_type": "markdown",
   "id": "international-footwear",
   "metadata": {},
   "source": [
    "## Run trainer"
   ]
  },
  {
   "cell_type": "code",
   "execution_count": 27,
   "id": "floating-north",
   "metadata": {},
   "outputs": [
    {
     "name": "stdout",
     "output_type": "stream",
     "text": [
      "Training started: 14/04/2021 05:38:51\n",
      "INFO:ignite.engine.engine.Trainer:Engine run resuming from iteration 0, epoch 0 until 120 epochs\n",
      "INFO:ignite.engine.engine.Trainer:Epoch: 1/120, Iter: 1/64 -- loss: 0.6746 \n",
      "INFO:ignite.engine.engine.Trainer:Epoch: 1/120, Iter: 2/64 -- loss: 0.6139 \n",
      "INFO:ignite.engine.engine.Trainer:Epoch: 1/120, Iter: 3/64 -- loss: 0.5903 \n",
      "INFO:ignite.engine.engine.Trainer:Epoch: 1/120, Iter: 4/64 -- loss: 0.6171 \n",
      "INFO:ignite.engine.engine.Trainer:Epoch: 1/120, Iter: 5/64 -- loss: 0.6355 \n",
      "INFO:ignite.engine.engine.Trainer:Epoch: 1/120, Iter: 6/64 -- loss: 0.6136 \n",
      "INFO:ignite.engine.engine.Trainer:Epoch: 1/120, Iter: 7/64 -- loss: 0.5627 \n",
      "INFO:ignite.engine.engine.Trainer:Epoch: 1/120, Iter: 8/64 -- loss: 0.5954 \n",
      "INFO:ignite.engine.engine.Trainer:Epoch: 1/120, Iter: 9/64 -- loss: 0.8035 \n",
      "INFO:ignite.engine.engine.Trainer:Epoch: 1/120, Iter: 10/64 -- loss: 0.7971 \n",
      "INFO:ignite.engine.engine.Trainer:Epoch: 1/120, Iter: 11/64 -- loss: 0.6679 \n",
      "INFO:ignite.engine.engine.Trainer:Epoch: 1/120, Iter: 12/64 -- loss: 0.5817 \n",
      "INFO:ignite.engine.engine.Trainer:Epoch: 1/120, Iter: 13/64 -- loss: 0.7560 \n",
      "INFO:ignite.engine.engine.Trainer:Epoch: 1/120, Iter: 14/64 -- loss: 0.5370 \n",
      "INFO:ignite.engine.engine.Trainer:Epoch: 1/120, Iter: 15/64 -- loss: 0.8134 \n",
      "INFO:ignite.engine.engine.Trainer:Epoch: 1/120, Iter: 16/64 -- loss: 0.6341 \n",
      "INFO:ignite.engine.engine.Trainer:Epoch: 1/120, Iter: 17/64 -- loss: 0.6572 \n",
      "INFO:ignite.engine.engine.Trainer:Epoch: 1/120, Iter: 18/64 -- loss: 0.6159 \n",
      "INFO:ignite.engine.engine.Trainer:Epoch: 1/120, Iter: 19/64 -- loss: 0.4989 \n",
      "INFO:ignite.engine.engine.Trainer:Epoch: 1/120, Iter: 20/64 -- loss: 0.7763 \n",
      "INFO:ignite.engine.engine.Trainer:Epoch: 1/120, Iter: 21/64 -- loss: 0.5633 \n",
      "INFO:ignite.engine.engine.Trainer:Epoch: 1/120, Iter: 22/64 -- loss: 0.8240 \n",
      "INFO:ignite.engine.engine.Trainer:Epoch: 1/120, Iter: 23/64 -- loss: 0.8236 \n",
      "INFO:ignite.engine.engine.Trainer:Epoch: 1/120, Iter: 24/64 -- loss: 0.8432 \n",
      "INFO:ignite.engine.engine.Trainer:Epoch: 1/120, Iter: 25/64 -- loss: 0.4216 \n",
      "INFO:ignite.engine.engine.Trainer:Epoch: 1/120, Iter: 26/64 -- loss: 0.5527 \n",
      "INFO:ignite.engine.engine.Trainer:Epoch: 1/120, Iter: 27/64 -- loss: 0.5729 \n",
      "INFO:ignite.engine.engine.Trainer:Epoch: 1/120, Iter: 28/64 -- loss: 0.5539 \n",
      "INFO:ignite.engine.engine.Trainer:Epoch: 1/120, Iter: 29/64 -- loss: 0.5245 \n",
      "INFO:ignite.engine.engine.Trainer:Epoch: 1/120, Iter: 30/64 -- loss: 0.6218 \n",
      "INFO:ignite.engine.engine.Trainer:Epoch: 1/120, Iter: 31/64 -- loss: 0.9417 \n",
      "INFO:ignite.engine.engine.Trainer:Epoch: 1/120, Iter: 32/64 -- loss: 0.6306 \n",
      "INFO:ignite.engine.engine.Trainer:Epoch: 1/120, Iter: 33/64 -- loss: 0.5453 \n",
      "INFO:ignite.engine.engine.Trainer:Epoch: 1/120, Iter: 34/64 -- loss: 0.5675 \n",
      "INFO:ignite.engine.engine.Trainer:Epoch: 1/120, Iter: 35/64 -- loss: 0.6197 \n",
      "INFO:ignite.engine.engine.Trainer:Epoch: 1/120, Iter: 36/64 -- loss: 0.6775 \n",
      "INFO:ignite.engine.engine.Trainer:Epoch: 1/120, Iter: 37/64 -- loss: 0.6999 \n",
      "INFO:ignite.engine.engine.Trainer:Epoch: 1/120, Iter: 38/64 -- loss: 0.4815 \n",
      "INFO:ignite.engine.engine.Trainer:Epoch: 1/120, Iter: 39/64 -- loss: 0.5939 \n",
      "INFO:ignite.engine.engine.Trainer:Epoch: 1/120, Iter: 40/64 -- loss: 0.4049 \n",
      "INFO:ignite.engine.engine.Trainer:Epoch: 1/120, Iter: 41/64 -- loss: 0.7508 \n",
      "INFO:ignite.engine.engine.Trainer:Epoch: 1/120, Iter: 42/64 -- loss: 0.5977 \n",
      "INFO:ignite.engine.engine.Trainer:Epoch: 1/120, Iter: 43/64 -- loss: 0.9590 \n",
      "INFO:ignite.engine.engine.Trainer:Epoch: 1/120, Iter: 44/64 -- loss: 0.5145 \n",
      "INFO:ignite.engine.engine.Trainer:Epoch: 1/120, Iter: 45/64 -- loss: 0.5190 \n",
      "INFO:ignite.engine.engine.Trainer:Epoch: 1/120, Iter: 46/64 -- loss: 0.6248 \n",
      "INFO:ignite.engine.engine.Trainer:Epoch: 1/120, Iter: 47/64 -- loss: 0.5751 \n",
      "INFO:ignite.engine.engine.Trainer:Epoch: 1/120, Iter: 48/64 -- loss: 0.3906 \n",
      "INFO:ignite.engine.engine.Trainer:Epoch: 1/120, Iter: 49/64 -- loss: 0.4297 \n",
      "INFO:ignite.engine.engine.Trainer:Epoch: 1/120, Iter: 50/64 -- loss: 0.8348 \n",
      "INFO:ignite.engine.engine.Trainer:Epoch: 1/120, Iter: 51/64 -- loss: 0.7801 \n",
      "INFO:ignite.engine.engine.Trainer:Epoch: 1/120, Iter: 52/64 -- loss: 0.5144 \n",
      "INFO:ignite.engine.engine.Trainer:Epoch: 1/120, Iter: 53/64 -- loss: 0.5643 \n",
      "INFO:ignite.engine.engine.Trainer:Epoch: 1/120, Iter: 54/64 -- loss: 0.5468 \n",
      "INFO:ignite.engine.engine.Trainer:Epoch: 1/120, Iter: 55/64 -- loss: 0.6557 \n",
      "INFO:ignite.engine.engine.Trainer:Epoch: 1/120, Iter: 56/64 -- loss: 0.5299 \n",
      "INFO:ignite.engine.engine.Trainer:Epoch: 1/120, Iter: 57/64 -- loss: 0.6548 \n",
      "INFO:ignite.engine.engine.Trainer:Epoch: 1/120, Iter: 58/64 -- loss: 0.6341 \n",
      "INFO:ignite.engine.engine.Trainer:Epoch: 1/120, Iter: 59/64 -- loss: 0.5361 \n",
      "INFO:ignite.engine.engine.Trainer:Epoch: 1/120, Iter: 60/64 -- loss: 0.7806 \n",
      "INFO:ignite.engine.engine.Trainer:Epoch: 1/120, Iter: 61/64 -- loss: 0.8117 \n",
      "INFO:ignite.engine.engine.Trainer:Epoch: 1/120, Iter: 62/64 -- loss: 0.5889 \n",
      "INFO:ignite.engine.engine.Trainer:Epoch: 1/120, Iter: 63/64 -- loss: 0.4400 \n",
      "INFO:ignite.engine.engine.Trainer:Epoch: 1/120, Iter: 64/64 -- loss: 0.4390 \n",
      "INFO:ignite.engine.engine.Validator:Engine run resuming from iteration 0, epoch 0 until 1 epochs\n",
      "INFO:ignite.engine.engine.Validator:Got new best metric of Valid_AUC: 0.6338235294117647\n",
      "INFO:ignite.engine.engine.Validator:Epoch[1] Metrics -- Valid_ACC: 0.6094 Valid_AUC: 0.6338 \n",
      "INFO:ignite.engine.engine.Validator:Key metric: Valid_AUC best value: 0.6338235294117647 at epoch: 1\n",
      "INFO:ignite.engine.engine.Validator:Epoch[1] Complete. Time taken: 00:00:03\n",
      "INFO:ignite.engine.engine.Validator:Engine run complete. Time taken: 00:00:03\n",
      "INFO:ignite.engine.engine.Trainer:Saved checkpoint at epoch: 1\n",
      "INFO:ignite.engine.engine.Trainer:Epoch[1] Complete. Time taken: 00:00:41\n",
      "INFO:ignite.engine.engine.Trainer:Epoch: 2/120, Iter: 1/64 -- loss: 0.6240 \n",
      "INFO:ignite.engine.engine.Trainer:Epoch: 2/120, Iter: 2/64 -- loss: 0.4087 \n",
      "INFO:ignite.engine.engine.Trainer:Epoch: 2/120, Iter: 3/64 -- loss: 0.4119 \n",
      "INFO:ignite.engine.engine.Trainer:Epoch: 2/120, Iter: 4/64 -- loss: 0.3989 \n",
      "INFO:ignite.engine.engine.Trainer:Epoch: 2/120, Iter: 5/64 -- loss: 0.5603 \n",
      "INFO:ignite.engine.engine.Trainer:Epoch: 2/120, Iter: 6/64 -- loss: 0.6895 \n",
      "INFO:ignite.engine.engine.Trainer:Epoch: 2/120, Iter: 7/64 -- loss: 0.7581 \n",
      "INFO:ignite.engine.engine.Trainer:Epoch: 2/120, Iter: 8/64 -- loss: 0.5561 \n",
      "INFO:ignite.engine.engine.Trainer:Epoch: 2/120, Iter: 9/64 -- loss: 0.8337 \n",
      "INFO:ignite.engine.engine.Trainer:Epoch: 2/120, Iter: 10/64 -- loss: 0.4251 \n",
      "INFO:ignite.engine.engine.Trainer:Epoch: 2/120, Iter: 11/64 -- loss: 0.5608 \n",
      "INFO:ignite.engine.engine.Trainer:Epoch: 2/120, Iter: 12/64 -- loss: 0.3265 \n",
      "INFO:ignite.engine.engine.Trainer:Epoch: 2/120, Iter: 13/64 -- loss: 0.4847 \n",
      "INFO:ignite.engine.engine.Trainer:Epoch: 2/120, Iter: 14/64 -- loss: 0.7267 \n",
      "INFO:ignite.engine.engine.Trainer:Epoch: 2/120, Iter: 15/64 -- loss: 0.8400 \n",
      "INFO:ignite.engine.engine.Trainer:Epoch: 2/120, Iter: 16/64 -- loss: 0.4094 \n",
      "INFO:ignite.engine.engine.Trainer:Epoch: 2/120, Iter: 17/64 -- loss: 0.8676 \n",
      "INFO:ignite.engine.engine.Trainer:Epoch: 2/120, Iter: 18/64 -- loss: 0.7962 \n",
      "INFO:ignite.engine.engine.Trainer:Epoch: 2/120, Iter: 19/64 -- loss: 0.6131 \n",
      "INFO:ignite.engine.engine.Trainer:Epoch: 2/120, Iter: 20/64 -- loss: 0.3211 \n",
      "INFO:ignite.engine.engine.Trainer:Epoch: 2/120, Iter: 21/64 -- loss: 0.8678 \n",
      "INFO:ignite.engine.engine.Trainer:Epoch: 2/120, Iter: 22/64 -- loss: 0.4950 \n",
      "INFO:ignite.engine.engine.Trainer:Epoch: 2/120, Iter: 23/64 -- loss: 0.3399 \n",
      "INFO:ignite.engine.engine.Trainer:Epoch: 2/120, Iter: 24/64 -- loss: 0.5643 \n",
      "INFO:ignite.engine.engine.Trainer:Epoch: 2/120, Iter: 25/64 -- loss: 0.6349 \n",
      "INFO:ignite.engine.engine.Trainer:Epoch: 2/120, Iter: 26/64 -- loss: 0.5946 \n",
      "INFO:ignite.engine.engine.Trainer:Epoch: 2/120, Iter: 27/64 -- loss: 0.9512 \n",
      "INFO:ignite.engine.engine.Trainer:Epoch: 2/120, Iter: 28/64 -- loss: 0.8475 \n",
      "INFO:ignite.engine.engine.Trainer:Epoch: 2/120, Iter: 29/64 -- loss: 0.6225 \n",
      "ERROR:ignite.engine.engine.Trainer:Engine run is terminating due to exception: \n",
      "ERROR:ignite.engine.engine.Trainer:Exception: \n",
      "Traceback (most recent call last):\n",
      "  File \"/opt/conda/lib/python3.7/site-packages/ignite/engine/engine.py\", line 745, in _internal_run\n",
      "    time_taken = self._run_once_on_dataset()\n",
      "  File \"/opt/conda/lib/python3.7/site-packages/ignite/engine/engine.py\", line 833, in _run_once_on_dataset\n",
      "    self.state.output = self._process_function(self, self.state.batch)\n",
      "  File \"/home/jupyter/RIS/src/trainer.py\", line 111, in _iteration\n",
      "    return super()._iteration(engine, batchdata)\n",
      "  File \"/opt/conda/lib/python3.7/site-packages/monai/engines/trainer.py\", line 173, in _iteration\n",
      "    self.scaler.scale(engine.state.output[Keys.LOSS]).backward()\n",
      "  File \"/opt/conda/lib/python3.7/site-packages/torch/tensor.py\", line 245, in backward\n",
      "    torch.autograd.backward(self, gradient, retain_graph, create_graph, inputs=inputs)\n",
      "  File \"/opt/conda/lib/python3.7/site-packages/torch/autograd/__init__.py\", line 147, in backward\n",
      "    allow_unreachable=True, accumulate_grad=True)  # allow_unreachable flag\n",
      "KeyboardInterrupt\n"
     ]
    },
    {
     "ename": "KeyboardInterrupt",
     "evalue": "",
     "output_type": "error",
     "traceback": [
      "\u001b[0;31m---------------------------------------------------------------------------\u001b[0m",
      "\u001b[0;31mKeyboardInterrupt\u001b[0m                         Traceback (most recent call last)",
      "\u001b[0;32m<ipython-input-27-d497f5ef72c2>\u001b[0m in \u001b[0;36m<module>\u001b[0;34m\u001b[0m\n\u001b[0;32m----> 1\u001b[0;31m \u001b[0mtrain_output\u001b[0m \u001b[0;34m=\u001b[0m \u001b[0mtrainer\u001b[0m\u001b[0;34m.\u001b[0m\u001b[0mrun\u001b[0m\u001b[0;34m(\u001b[0m\u001b[0;34m)\u001b[0m\u001b[0;34m\u001b[0m\u001b[0;34m\u001b[0m\u001b[0m\n\u001b[0m",
      "\u001b[0;32m~/RIS/src/trainer.py\u001b[0m in \u001b[0;36mrun\u001b[0;34m(self)\u001b[0m\n\u001b[1;32m    105\u001b[0m         \u001b[0mself\u001b[0m\u001b[0;34m.\u001b[0m\u001b[0m_register_handlers\u001b[0m\u001b[0;34m(\u001b[0m\u001b[0mhandlers\u001b[0m\u001b[0;34m)\u001b[0m\u001b[0;34m\u001b[0m\u001b[0;34m\u001b[0m\u001b[0m\n\u001b[1;32m    106\u001b[0m \u001b[0;34m\u001b[0m\u001b[0m\n\u001b[0;32m--> 107\u001b[0;31m         \u001b[0msuper\u001b[0m\u001b[0;34m(\u001b[0m\u001b[0;34m)\u001b[0m\u001b[0;34m.\u001b[0m\u001b[0mrun\u001b[0m\u001b[0;34m(\u001b[0m\u001b[0;34m)\u001b[0m\u001b[0;34m\u001b[0m\u001b[0;34m\u001b[0m\u001b[0m\n\u001b[0m\u001b[1;32m    108\u001b[0m         \u001b[0;32mreturn\u001b[0m \u001b[0mself\u001b[0m\u001b[0;34m.\u001b[0m\u001b[0moutput_dir\u001b[0m\u001b[0;34m\u001b[0m\u001b[0;34m\u001b[0m\u001b[0m\n\u001b[1;32m    109\u001b[0m \u001b[0;34m\u001b[0m\u001b[0m\n",
      "\u001b[0;32m/opt/conda/lib/python3.7/site-packages/monai/engines/trainer.py\u001b[0m in \u001b[0;36mrun\u001b[0;34m(self)\u001b[0m\n\u001b[1;32m     47\u001b[0m         \"\"\"\n\u001b[1;32m     48\u001b[0m         \u001b[0mself\u001b[0m\u001b[0;34m.\u001b[0m\u001b[0mscaler\u001b[0m \u001b[0;34m=\u001b[0m \u001b[0mtorch\u001b[0m\u001b[0;34m.\u001b[0m\u001b[0mcuda\u001b[0m\u001b[0;34m.\u001b[0m\u001b[0mamp\u001b[0m\u001b[0;34m.\u001b[0m\u001b[0mGradScaler\u001b[0m\u001b[0;34m(\u001b[0m\u001b[0;34m)\u001b[0m \u001b[0;32mif\u001b[0m \u001b[0mself\u001b[0m\u001b[0;34m.\u001b[0m\u001b[0mamp\u001b[0m \u001b[0;32melse\u001b[0m \u001b[0;32mNone\u001b[0m\u001b[0;34m\u001b[0m\u001b[0;34m\u001b[0m\u001b[0m\n\u001b[0;32m---> 49\u001b[0;31m         \u001b[0msuper\u001b[0m\u001b[0;34m(\u001b[0m\u001b[0;34m)\u001b[0m\u001b[0;34m.\u001b[0m\u001b[0mrun\u001b[0m\u001b[0;34m(\u001b[0m\u001b[0;34m)\u001b[0m\u001b[0;34m\u001b[0m\u001b[0;34m\u001b[0m\u001b[0m\n\u001b[0m\u001b[1;32m     50\u001b[0m \u001b[0;34m\u001b[0m\u001b[0m\n\u001b[1;32m     51\u001b[0m     \u001b[0;32mdef\u001b[0m \u001b[0mget_train_stats\u001b[0m\u001b[0;34m(\u001b[0m\u001b[0mself\u001b[0m\u001b[0;34m)\u001b[0m \u001b[0;34m->\u001b[0m \u001b[0mDict\u001b[0m\u001b[0;34m[\u001b[0m\u001b[0mstr\u001b[0m\u001b[0;34m,\u001b[0m \u001b[0mfloat\u001b[0m\u001b[0;34m]\u001b[0m\u001b[0;34m:\u001b[0m\u001b[0;34m\u001b[0m\u001b[0;34m\u001b[0m\u001b[0m\n",
      "\u001b[0;32m/opt/conda/lib/python3.7/site-packages/monai/engines/workflow.py\u001b[0m in \u001b[0;36mrun\u001b[0;34m(self)\u001b[0m\n\u001b[1;32m    204\u001b[0m \u001b[0;34m\u001b[0m\u001b[0m\n\u001b[1;32m    205\u001b[0m         \"\"\"\n\u001b[0;32m--> 206\u001b[0;31m         \u001b[0msuper\u001b[0m\u001b[0;34m(\u001b[0m\u001b[0;34m)\u001b[0m\u001b[0;34m.\u001b[0m\u001b[0mrun\u001b[0m\u001b[0;34m(\u001b[0m\u001b[0mdata\u001b[0m\u001b[0;34m=\u001b[0m\u001b[0mself\u001b[0m\u001b[0;34m.\u001b[0m\u001b[0mdata_loader\u001b[0m\u001b[0;34m,\u001b[0m \u001b[0mmax_epochs\u001b[0m\u001b[0;34m=\u001b[0m\u001b[0mself\u001b[0m\u001b[0;34m.\u001b[0m\u001b[0mstate\u001b[0m\u001b[0;34m.\u001b[0m\u001b[0mmax_epochs\u001b[0m\u001b[0;34m)\u001b[0m\u001b[0;34m\u001b[0m\u001b[0;34m\u001b[0m\u001b[0m\n\u001b[0m\u001b[1;32m    207\u001b[0m \u001b[0;34m\u001b[0m\u001b[0m\n\u001b[1;32m    208\u001b[0m     \u001b[0;32mdef\u001b[0m \u001b[0m_iteration\u001b[0m\u001b[0;34m(\u001b[0m\u001b[0mself\u001b[0m\u001b[0;34m,\u001b[0m \u001b[0mengine\u001b[0m\u001b[0;34m:\u001b[0m \u001b[0mEngine\u001b[0m\u001b[0;34m,\u001b[0m \u001b[0mbatchdata\u001b[0m\u001b[0;34m:\u001b[0m \u001b[0mDict\u001b[0m\u001b[0;34m[\u001b[0m\u001b[0mstr\u001b[0m\u001b[0;34m,\u001b[0m \u001b[0mtorch\u001b[0m\u001b[0;34m.\u001b[0m\u001b[0mTensor\u001b[0m\u001b[0;34m]\u001b[0m\u001b[0;34m)\u001b[0m\u001b[0;34m:\u001b[0m\u001b[0;34m\u001b[0m\u001b[0;34m\u001b[0m\u001b[0m\n",
      "\u001b[0;32m/opt/conda/lib/python3.7/site-packages/ignite/engine/engine.py\u001b[0m in \u001b[0;36mrun\u001b[0;34m(self, data, max_epochs, epoch_length, seed)\u001b[0m\n\u001b[1;32m    700\u001b[0m \u001b[0;34m\u001b[0m\u001b[0m\n\u001b[1;32m    701\u001b[0m         \u001b[0mself\u001b[0m\u001b[0;34m.\u001b[0m\u001b[0mstate\u001b[0m\u001b[0;34m.\u001b[0m\u001b[0mdataloader\u001b[0m \u001b[0;34m=\u001b[0m \u001b[0mdata\u001b[0m\u001b[0;34m\u001b[0m\u001b[0;34m\u001b[0m\u001b[0m\n\u001b[0;32m--> 702\u001b[0;31m         \u001b[0;32mreturn\u001b[0m \u001b[0mself\u001b[0m\u001b[0;34m.\u001b[0m\u001b[0m_internal_run\u001b[0m\u001b[0;34m(\u001b[0m\u001b[0;34m)\u001b[0m\u001b[0;34m\u001b[0m\u001b[0;34m\u001b[0m\u001b[0m\n\u001b[0m\u001b[1;32m    703\u001b[0m \u001b[0;34m\u001b[0m\u001b[0m\n\u001b[1;32m    704\u001b[0m     \u001b[0;34m@\u001b[0m\u001b[0mstaticmethod\u001b[0m\u001b[0;34m\u001b[0m\u001b[0;34m\u001b[0m\u001b[0m\n",
      "\u001b[0;32m/opt/conda/lib/python3.7/site-packages/ignite/engine/engine.py\u001b[0m in \u001b[0;36m_internal_run\u001b[0;34m(self)\u001b[0m\n\u001b[1;32m    773\u001b[0m             \u001b[0mself\u001b[0m\u001b[0;34m.\u001b[0m\u001b[0m_dataloader_iter\u001b[0m \u001b[0;34m=\u001b[0m \u001b[0;32mNone\u001b[0m\u001b[0;34m\u001b[0m\u001b[0;34m\u001b[0m\u001b[0m\n\u001b[1;32m    774\u001b[0m             \u001b[0mself\u001b[0m\u001b[0;34m.\u001b[0m\u001b[0mlogger\u001b[0m\u001b[0;34m.\u001b[0m\u001b[0merror\u001b[0m\u001b[0;34m(\u001b[0m\u001b[0;34mf\"Engine run is terminating due to exception: {e}\"\u001b[0m\u001b[0;34m)\u001b[0m\u001b[0;34m\u001b[0m\u001b[0;34m\u001b[0m\u001b[0m\n\u001b[0;32m--> 775\u001b[0;31m             \u001b[0mself\u001b[0m\u001b[0;34m.\u001b[0m\u001b[0m_handle_exception\u001b[0m\u001b[0;34m(\u001b[0m\u001b[0me\u001b[0m\u001b[0;34m)\u001b[0m\u001b[0;34m\u001b[0m\u001b[0;34m\u001b[0m\u001b[0m\n\u001b[0m\u001b[1;32m    776\u001b[0m \u001b[0;34m\u001b[0m\u001b[0m\n\u001b[1;32m    777\u001b[0m         \u001b[0mself\u001b[0m\u001b[0;34m.\u001b[0m\u001b[0m_dataloader_iter\u001b[0m \u001b[0;34m=\u001b[0m \u001b[0;32mNone\u001b[0m\u001b[0;34m\u001b[0m\u001b[0;34m\u001b[0m\u001b[0m\n",
      "\u001b[0;32m/opt/conda/lib/python3.7/site-packages/ignite/engine/engine.py\u001b[0m in \u001b[0;36m_handle_exception\u001b[0;34m(self, e)\u001b[0m\n\u001b[1;32m    465\u001b[0m     \u001b[0;32mdef\u001b[0m \u001b[0m_handle_exception\u001b[0m\u001b[0;34m(\u001b[0m\u001b[0mself\u001b[0m\u001b[0;34m,\u001b[0m \u001b[0me\u001b[0m\u001b[0;34m:\u001b[0m \u001b[0mBaseException\u001b[0m\u001b[0;34m)\u001b[0m \u001b[0;34m->\u001b[0m \u001b[0;32mNone\u001b[0m\u001b[0;34m:\u001b[0m\u001b[0;34m\u001b[0m\u001b[0;34m\u001b[0m\u001b[0m\n\u001b[1;32m    466\u001b[0m         \u001b[0;32mif\u001b[0m \u001b[0mEvents\u001b[0m\u001b[0;34m.\u001b[0m\u001b[0mEXCEPTION_RAISED\u001b[0m \u001b[0;32min\u001b[0m \u001b[0mself\u001b[0m\u001b[0;34m.\u001b[0m\u001b[0m_event_handlers\u001b[0m\u001b[0;34m:\u001b[0m\u001b[0;34m\u001b[0m\u001b[0;34m\u001b[0m\u001b[0m\n\u001b[0;32m--> 467\u001b[0;31m             \u001b[0mself\u001b[0m\u001b[0;34m.\u001b[0m\u001b[0m_fire_event\u001b[0m\u001b[0;34m(\u001b[0m\u001b[0mEvents\u001b[0m\u001b[0;34m.\u001b[0m\u001b[0mEXCEPTION_RAISED\u001b[0m\u001b[0;34m,\u001b[0m \u001b[0me\u001b[0m\u001b[0;34m)\u001b[0m\u001b[0;34m\u001b[0m\u001b[0;34m\u001b[0m\u001b[0m\n\u001b[0m\u001b[1;32m    468\u001b[0m         \u001b[0;32melse\u001b[0m\u001b[0;34m:\u001b[0m\u001b[0;34m\u001b[0m\u001b[0;34m\u001b[0m\u001b[0m\n\u001b[1;32m    469\u001b[0m             \u001b[0;32mraise\u001b[0m \u001b[0me\u001b[0m\u001b[0;34m\u001b[0m\u001b[0;34m\u001b[0m\u001b[0m\n",
      "\u001b[0;32m/opt/conda/lib/python3.7/site-packages/ignite/engine/engine.py\u001b[0m in \u001b[0;36m_fire_event\u001b[0;34m(self, event_name, *event_args, **event_kwargs)\u001b[0m\n\u001b[1;32m    422\u001b[0m             \u001b[0mkwargs\u001b[0m\u001b[0;34m.\u001b[0m\u001b[0mupdate\u001b[0m\u001b[0;34m(\u001b[0m\u001b[0mevent_kwargs\u001b[0m\u001b[0;34m)\u001b[0m\u001b[0;34m\u001b[0m\u001b[0;34m\u001b[0m\u001b[0m\n\u001b[1;32m    423\u001b[0m             \u001b[0mfirst\u001b[0m\u001b[0;34m,\u001b[0m \u001b[0mothers\u001b[0m \u001b[0;34m=\u001b[0m \u001b[0;34m(\u001b[0m\u001b[0;34m(\u001b[0m\u001b[0margs\u001b[0m\u001b[0;34m[\u001b[0m\u001b[0;36m0\u001b[0m\u001b[0;34m]\u001b[0m\u001b[0;34m,\u001b[0m\u001b[0;34m)\u001b[0m\u001b[0;34m,\u001b[0m \u001b[0margs\u001b[0m\u001b[0;34m[\u001b[0m\u001b[0;36m1\u001b[0m\u001b[0;34m:\u001b[0m\u001b[0;34m]\u001b[0m\u001b[0;34m)\u001b[0m \u001b[0;32mif\u001b[0m \u001b[0;34m(\u001b[0m\u001b[0margs\u001b[0m \u001b[0;32mand\u001b[0m \u001b[0margs\u001b[0m\u001b[0;34m[\u001b[0m\u001b[0;36m0\u001b[0m\u001b[0;34m]\u001b[0m \u001b[0;34m==\u001b[0m \u001b[0mself\u001b[0m\u001b[0;34m)\u001b[0m \u001b[0;32melse\u001b[0m \u001b[0;34m(\u001b[0m\u001b[0;34m(\u001b[0m\u001b[0;34m)\u001b[0m\u001b[0;34m,\u001b[0m \u001b[0margs\u001b[0m\u001b[0;34m)\u001b[0m\u001b[0;34m\u001b[0m\u001b[0;34m\u001b[0m\u001b[0m\n\u001b[0;32m--> 424\u001b[0;31m             \u001b[0mfunc\u001b[0m\u001b[0;34m(\u001b[0m\u001b[0;34m*\u001b[0m\u001b[0mfirst\u001b[0m\u001b[0;34m,\u001b[0m \u001b[0;34m*\u001b[0m\u001b[0;34m(\u001b[0m\u001b[0mevent_args\u001b[0m \u001b[0;34m+\u001b[0m \u001b[0mothers\u001b[0m\u001b[0;34m)\u001b[0m\u001b[0;34m,\u001b[0m \u001b[0;34m**\u001b[0m\u001b[0mkwargs\u001b[0m\u001b[0;34m)\u001b[0m\u001b[0;34m\u001b[0m\u001b[0;34m\u001b[0m\u001b[0m\n\u001b[0m\u001b[1;32m    425\u001b[0m \u001b[0;34m\u001b[0m\u001b[0m\n\u001b[1;32m    426\u001b[0m     \u001b[0;32mdef\u001b[0m \u001b[0mfire_event\u001b[0m\u001b[0;34m(\u001b[0m\u001b[0mself\u001b[0m\u001b[0;34m,\u001b[0m \u001b[0mevent_name\u001b[0m\u001b[0;34m:\u001b[0m \u001b[0mAny\u001b[0m\u001b[0;34m)\u001b[0m \u001b[0;34m->\u001b[0m \u001b[0;32mNone\u001b[0m\u001b[0;34m:\u001b[0m\u001b[0;34m\u001b[0m\u001b[0;34m\u001b[0m\u001b[0m\n",
      "\u001b[0;32m/opt/conda/lib/python3.7/site-packages/monai/handlers/stats_handler.py\u001b[0m in \u001b[0;36mexception_raised\u001b[0;34m(self, engine, e)\u001b[0m\n\u001b[1;32m    143\u001b[0m         \"\"\"\n\u001b[1;32m    144\u001b[0m         \u001b[0mself\u001b[0m\u001b[0;34m.\u001b[0m\u001b[0mlogger\u001b[0m\u001b[0;34m.\u001b[0m\u001b[0mexception\u001b[0m\u001b[0;34m(\u001b[0m\u001b[0;34mf\"Exception: {e}\"\u001b[0m\u001b[0;34m)\u001b[0m\u001b[0;34m\u001b[0m\u001b[0;34m\u001b[0m\u001b[0m\n\u001b[0;32m--> 145\u001b[0;31m         \u001b[0;32mraise\u001b[0m \u001b[0me\u001b[0m\u001b[0;34m\u001b[0m\u001b[0;34m\u001b[0m\u001b[0m\n\u001b[0m\u001b[1;32m    146\u001b[0m \u001b[0;34m\u001b[0m\u001b[0m\n\u001b[1;32m    147\u001b[0m     \u001b[0;32mdef\u001b[0m \u001b[0m_default_epoch_print\u001b[0m\u001b[0;34m(\u001b[0m\u001b[0mself\u001b[0m\u001b[0;34m,\u001b[0m \u001b[0mengine\u001b[0m\u001b[0;34m:\u001b[0m \u001b[0mEngine\u001b[0m\u001b[0;34m)\u001b[0m \u001b[0;34m->\u001b[0m \u001b[0;32mNone\u001b[0m\u001b[0;34m:\u001b[0m\u001b[0;34m\u001b[0m\u001b[0;34m\u001b[0m\u001b[0m\n",
      "\u001b[0;32m/opt/conda/lib/python3.7/site-packages/ignite/engine/engine.py\u001b[0m in \u001b[0;36m_internal_run\u001b[0;34m(self)\u001b[0m\n\u001b[1;32m    743\u001b[0m                     \u001b[0mself\u001b[0m\u001b[0;34m.\u001b[0m\u001b[0m_setup_engine\u001b[0m\u001b[0;34m(\u001b[0m\u001b[0;34m)\u001b[0m\u001b[0;34m\u001b[0m\u001b[0;34m\u001b[0m\u001b[0m\n\u001b[1;32m    744\u001b[0m \u001b[0;34m\u001b[0m\u001b[0m\n\u001b[0;32m--> 745\u001b[0;31m                 \u001b[0mtime_taken\u001b[0m \u001b[0;34m=\u001b[0m \u001b[0mself\u001b[0m\u001b[0;34m.\u001b[0m\u001b[0m_run_once_on_dataset\u001b[0m\u001b[0;34m(\u001b[0m\u001b[0;34m)\u001b[0m\u001b[0;34m\u001b[0m\u001b[0;34m\u001b[0m\u001b[0m\n\u001b[0m\u001b[1;32m    746\u001b[0m                 \u001b[0;31m# time is available for handlers but must be update after fire\u001b[0m\u001b[0;34m\u001b[0m\u001b[0;34m\u001b[0m\u001b[0;34m\u001b[0m\u001b[0m\n\u001b[1;32m    747\u001b[0m                 \u001b[0mself\u001b[0m\u001b[0;34m.\u001b[0m\u001b[0mstate\u001b[0m\u001b[0;34m.\u001b[0m\u001b[0mtimes\u001b[0m\u001b[0;34m[\u001b[0m\u001b[0mEvents\u001b[0m\u001b[0;34m.\u001b[0m\u001b[0mEPOCH_COMPLETED\u001b[0m\u001b[0;34m.\u001b[0m\u001b[0mname\u001b[0m\u001b[0;34m]\u001b[0m \u001b[0;34m=\u001b[0m \u001b[0mtime_taken\u001b[0m\u001b[0;34m\u001b[0m\u001b[0;34m\u001b[0m\u001b[0m\n",
      "\u001b[0;32m/opt/conda/lib/python3.7/site-packages/ignite/engine/engine.py\u001b[0m in \u001b[0;36m_run_once_on_dataset\u001b[0;34m(self)\u001b[0m\n\u001b[1;32m    831\u001b[0m                 \u001b[0mself\u001b[0m\u001b[0;34m.\u001b[0m\u001b[0mstate\u001b[0m\u001b[0;34m.\u001b[0m\u001b[0miteration\u001b[0m \u001b[0;34m+=\u001b[0m \u001b[0;36m1\u001b[0m\u001b[0;34m\u001b[0m\u001b[0;34m\u001b[0m\u001b[0m\n\u001b[1;32m    832\u001b[0m                 \u001b[0mself\u001b[0m\u001b[0;34m.\u001b[0m\u001b[0m_fire_event\u001b[0m\u001b[0;34m(\u001b[0m\u001b[0mEvents\u001b[0m\u001b[0;34m.\u001b[0m\u001b[0mITERATION_STARTED\u001b[0m\u001b[0;34m)\u001b[0m\u001b[0;34m\u001b[0m\u001b[0;34m\u001b[0m\u001b[0m\n\u001b[0;32m--> 833\u001b[0;31m                 \u001b[0mself\u001b[0m\u001b[0;34m.\u001b[0m\u001b[0mstate\u001b[0m\u001b[0;34m.\u001b[0m\u001b[0moutput\u001b[0m \u001b[0;34m=\u001b[0m \u001b[0mself\u001b[0m\u001b[0;34m.\u001b[0m\u001b[0m_process_function\u001b[0m\u001b[0;34m(\u001b[0m\u001b[0mself\u001b[0m\u001b[0;34m,\u001b[0m \u001b[0mself\u001b[0m\u001b[0;34m.\u001b[0m\u001b[0mstate\u001b[0m\u001b[0;34m.\u001b[0m\u001b[0mbatch\u001b[0m\u001b[0;34m)\u001b[0m\u001b[0;34m\u001b[0m\u001b[0;34m\u001b[0m\u001b[0m\n\u001b[0m\u001b[1;32m    834\u001b[0m                 \u001b[0mself\u001b[0m\u001b[0;34m.\u001b[0m\u001b[0m_fire_event\u001b[0m\u001b[0;34m(\u001b[0m\u001b[0mEvents\u001b[0m\u001b[0;34m.\u001b[0m\u001b[0mITERATION_COMPLETED\u001b[0m\u001b[0;34m)\u001b[0m\u001b[0;34m\u001b[0m\u001b[0;34m\u001b[0m\u001b[0m\n\u001b[1;32m    835\u001b[0m \u001b[0;34m\u001b[0m\u001b[0m\n",
      "\u001b[0;32m~/RIS/src/trainer.py\u001b[0m in \u001b[0;36m_iteration\u001b[0;34m(self, engine, batchdata)\u001b[0m\n\u001b[1;32m    109\u001b[0m \u001b[0;34m\u001b[0m\u001b[0m\n\u001b[1;32m    110\u001b[0m     \u001b[0;32mdef\u001b[0m \u001b[0m_iteration\u001b[0m\u001b[0;34m(\u001b[0m\u001b[0mself\u001b[0m\u001b[0;34m,\u001b[0m \u001b[0mengine\u001b[0m\u001b[0;34m:\u001b[0m \u001b[0mEngine\u001b[0m\u001b[0;34m,\u001b[0m \u001b[0mbatchdata\u001b[0m\u001b[0;34m:\u001b[0m \u001b[0mDict\u001b[0m\u001b[0;34m[\u001b[0m\u001b[0mstr\u001b[0m\u001b[0;34m,\u001b[0m \u001b[0mtorch\u001b[0m\u001b[0;34m.\u001b[0m\u001b[0mTensor\u001b[0m\u001b[0;34m]\u001b[0m\u001b[0;34m)\u001b[0m\u001b[0;34m:\u001b[0m\u001b[0;34m\u001b[0m\u001b[0;34m\u001b[0m\u001b[0m\n\u001b[0;32m--> 111\u001b[0;31m         \u001b[0;32mreturn\u001b[0m \u001b[0msuper\u001b[0m\u001b[0;34m(\u001b[0m\u001b[0;34m)\u001b[0m\u001b[0;34m.\u001b[0m\u001b[0m_iteration\u001b[0m\u001b[0;34m(\u001b[0m\u001b[0mengine\u001b[0m\u001b[0;34m,\u001b[0m \u001b[0mbatchdata\u001b[0m\u001b[0;34m)\u001b[0m\u001b[0;34m\u001b[0m\u001b[0;34m\u001b[0m\u001b[0m\n\u001b[0m",
      "\u001b[0;32m/opt/conda/lib/python3.7/site-packages/monai/engines/trainer.py\u001b[0m in \u001b[0;36m_iteration\u001b[0;34m(self, engine, batchdata)\u001b[0m\n\u001b[1;32m    171\u001b[0m             \u001b[0;32mwith\u001b[0m \u001b[0mtorch\u001b[0m\u001b[0;34m.\u001b[0m\u001b[0mcuda\u001b[0m\u001b[0;34m.\u001b[0m\u001b[0mamp\u001b[0m\u001b[0;34m.\u001b[0m\u001b[0mautocast\u001b[0m\u001b[0;34m(\u001b[0m\u001b[0;34m)\u001b[0m\u001b[0;34m:\u001b[0m\u001b[0;34m\u001b[0m\u001b[0;34m\u001b[0m\u001b[0m\n\u001b[1;32m    172\u001b[0m                 \u001b[0m_compute_pred_loss\u001b[0m\u001b[0;34m(\u001b[0m\u001b[0;34m)\u001b[0m\u001b[0;34m\u001b[0m\u001b[0;34m\u001b[0m\u001b[0m\n\u001b[0;32m--> 173\u001b[0;31m             \u001b[0mself\u001b[0m\u001b[0;34m.\u001b[0m\u001b[0mscaler\u001b[0m\u001b[0;34m.\u001b[0m\u001b[0mscale\u001b[0m\u001b[0;34m(\u001b[0m\u001b[0mengine\u001b[0m\u001b[0;34m.\u001b[0m\u001b[0mstate\u001b[0m\u001b[0;34m.\u001b[0m\u001b[0moutput\u001b[0m\u001b[0;34m[\u001b[0m\u001b[0mKeys\u001b[0m\u001b[0;34m.\u001b[0m\u001b[0mLOSS\u001b[0m\u001b[0;34m]\u001b[0m\u001b[0;34m)\u001b[0m\u001b[0;34m.\u001b[0m\u001b[0mbackward\u001b[0m\u001b[0;34m(\u001b[0m\u001b[0;34m)\u001b[0m\u001b[0;34m\u001b[0m\u001b[0;34m\u001b[0m\u001b[0m\n\u001b[0m\u001b[1;32m    174\u001b[0m             \u001b[0mengine\u001b[0m\u001b[0;34m.\u001b[0m\u001b[0mfire_event\u001b[0m\u001b[0;34m(\u001b[0m\u001b[0mIterationEvents\u001b[0m\u001b[0;34m.\u001b[0m\u001b[0mBACKWARD_COMPLETED\u001b[0m\u001b[0;34m)\u001b[0m\u001b[0;34m\u001b[0m\u001b[0;34m\u001b[0m\u001b[0m\n\u001b[1;32m    175\u001b[0m             \u001b[0mself\u001b[0m\u001b[0;34m.\u001b[0m\u001b[0mscaler\u001b[0m\u001b[0;34m.\u001b[0m\u001b[0mstep\u001b[0m\u001b[0;34m(\u001b[0m\u001b[0mself\u001b[0m\u001b[0;34m.\u001b[0m\u001b[0moptimizer\u001b[0m\u001b[0;34m)\u001b[0m\u001b[0;34m\u001b[0m\u001b[0;34m\u001b[0m\u001b[0m\n",
      "\u001b[0;32m/opt/conda/lib/python3.7/site-packages/torch/tensor.py\u001b[0m in \u001b[0;36mbackward\u001b[0;34m(self, gradient, retain_graph, create_graph, inputs)\u001b[0m\n\u001b[1;32m    243\u001b[0m                 \u001b[0mcreate_graph\u001b[0m\u001b[0;34m=\u001b[0m\u001b[0mcreate_graph\u001b[0m\u001b[0;34m,\u001b[0m\u001b[0;34m\u001b[0m\u001b[0;34m\u001b[0m\u001b[0m\n\u001b[1;32m    244\u001b[0m                 inputs=inputs)\n\u001b[0;32m--> 245\u001b[0;31m         \u001b[0mtorch\u001b[0m\u001b[0;34m.\u001b[0m\u001b[0mautograd\u001b[0m\u001b[0;34m.\u001b[0m\u001b[0mbackward\u001b[0m\u001b[0;34m(\u001b[0m\u001b[0mself\u001b[0m\u001b[0;34m,\u001b[0m \u001b[0mgradient\u001b[0m\u001b[0;34m,\u001b[0m \u001b[0mretain_graph\u001b[0m\u001b[0;34m,\u001b[0m \u001b[0mcreate_graph\u001b[0m\u001b[0;34m,\u001b[0m \u001b[0minputs\u001b[0m\u001b[0;34m=\u001b[0m\u001b[0minputs\u001b[0m\u001b[0;34m)\u001b[0m\u001b[0;34m\u001b[0m\u001b[0;34m\u001b[0m\u001b[0m\n\u001b[0m\u001b[1;32m    246\u001b[0m \u001b[0;34m\u001b[0m\u001b[0m\n\u001b[1;32m    247\u001b[0m     \u001b[0;32mdef\u001b[0m \u001b[0mregister_hook\u001b[0m\u001b[0;34m(\u001b[0m\u001b[0mself\u001b[0m\u001b[0;34m,\u001b[0m \u001b[0mhook\u001b[0m\u001b[0;34m)\u001b[0m\u001b[0;34m:\u001b[0m\u001b[0;34m\u001b[0m\u001b[0;34m\u001b[0m\u001b[0m\n",
      "\u001b[0;32m/opt/conda/lib/python3.7/site-packages/torch/autograd/__init__.py\u001b[0m in \u001b[0;36mbackward\u001b[0;34m(tensors, grad_tensors, retain_graph, create_graph, grad_variables, inputs)\u001b[0m\n\u001b[1;32m    145\u001b[0m     Variable._execution_engine.run_backward(\n\u001b[1;32m    146\u001b[0m         \u001b[0mtensors\u001b[0m\u001b[0;34m,\u001b[0m \u001b[0mgrad_tensors_\u001b[0m\u001b[0;34m,\u001b[0m \u001b[0mretain_graph\u001b[0m\u001b[0;34m,\u001b[0m \u001b[0mcreate_graph\u001b[0m\u001b[0;34m,\u001b[0m \u001b[0minputs\u001b[0m\u001b[0;34m,\u001b[0m\u001b[0;34m\u001b[0m\u001b[0;34m\u001b[0m\u001b[0m\n\u001b[0;32m--> 147\u001b[0;31m         allow_unreachable=True, accumulate_grad=True)  # allow_unreachable flag\n\u001b[0m\u001b[1;32m    148\u001b[0m \u001b[0;34m\u001b[0m\u001b[0m\n\u001b[1;32m    149\u001b[0m \u001b[0;34m\u001b[0m\u001b[0m\n",
      "\u001b[0;31mKeyboardInterrupt\u001b[0m: "
     ]
    }
   ],
   "source": [
    "train_output = trainer.run()"
   ]
  },
  {
   "cell_type": "markdown",
   "id": "extra-organ",
   "metadata": {},
   "source": [
    "## Setup tester"
   ]
  },
  {
   "cell_type": "code",
   "execution_count": null,
   "id": "intense-mechanics",
   "metadata": {},
   "outputs": [],
   "source": [
    "tester = Tester(\n",
    "    device=device,\n",
    "    test_data_loader=test_loader,\n",
    "    load_dir=train_output,\n",
    "    out_dir=dirs[\"out\"],\n",
    "    network=network,\n",
    "    post_transform=valid_post_transforms,\n",
    "    non_blocking=using_gpu,\n",
    "    amp=using_gpu\n",
    ")"
   ]
  },
  {
   "cell_type": "markdown",
   "id": "descending-category",
   "metadata": {},
   "source": [
    "## Run tester"
   ]
  },
  {
   "cell_type": "code",
   "execution_count": null,
   "id": "exposed-capital",
   "metadata": {},
   "outputs": [],
   "source": [
    "tester.run()"
   ]
  },
  {
   "cell_type": "code",
   "execution_count": null,
   "id": "strange-recipe",
   "metadata": {},
   "outputs": [],
   "source": []
  }
 ],
 "metadata": {
  "environment": {
   "name": "pytorch-gpu.1-8.m65",
   "type": "gcloud",
   "uri": "gcr.io/deeplearning-platform-release/pytorch-gpu.1-8:m65"
  },
  "kernelspec": {
   "display_name": "Python 3",
   "language": "python",
   "name": "python3"
  },
  "language_info": {
   "codemirror_mode": {
    "name": "ipython",
    "version": 3
   },
   "file_extension": ".py",
   "mimetype": "text/x-python",
   "name": "python",
   "nbconvert_exporter": "python",
   "pygments_lexer": "ipython3",
   "version": "3.7.10"
  }
 },
 "nbformat": 4,
 "nbformat_minor": 5
}
